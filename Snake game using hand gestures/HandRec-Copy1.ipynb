{
 "cells": [
  {
   "cell_type": "code",
   "execution_count": 1,
   "id": "e021208a",
   "metadata": {},
   "outputs": [],
   "source": [
    "from tensorflow.keras.models import Sequential\n",
    "from tensorflow.keras.layers import Dense, Convolution2D,MaxPooling2D,Flatten,Dropout"
   ]
  },
  {
   "cell_type": "code",
   "execution_count": 2,
   "id": "06e9ac1f",
   "metadata": {},
   "outputs": [],
   "source": [
    "from tensorflow.keras.preprocessing .image import ImageDataGenerator\n",
    "\n",
    "train_datagen = ImageDataGenerator(rescale = 1./255 ,shear_range = 0.1,zoom_range = 0.1)\n",
    "test_datagen = ImageDataGenerator(rescale = 1./255)"
   ]
  },
  {
   "cell_type": "code",
   "execution_count": 3,
   "id": "e8165d71",
   "metadata": {},
   "outputs": [
    {
     "name": "stderr",
     "output_type": "stream",
     "text": [
      "Copying files: 2046 files [00:11, 178.82 files/s]\n"
     ]
    }
   ],
   "source": [
    "# Train-Test Split  RUN ONLY ONCE\n",
    "import splitfolders\n",
    "splitfolders.ratio(r'C:\\Users\\surya\\Desktop\\Snake\\ImagesNew', output=r\"C:\\Users\\surya\\Desktop\\Snake\\ImagesNew\\ImagesNew_split\", ratio=(0.8, 0.2))"
   ]
  },
  {
   "cell_type": "code",
   "execution_count": 37,
   "id": "d0653ca5",
   "metadata": {},
   "outputs": [
    {
     "name": "stdout",
     "output_type": "stream",
     "text": [
      "Found 1636 images belonging to 4 classes.\n",
      "Found 410 images belonging to 4 classes.\n"
     ]
    }
   ],
   "source": [
    "x_train = train_datagen.flow_from_directory(r'C:\\Users\\surya\\Desktop\\Snake\\ImagesNew\\ImagesNew_split\\train',target_size = (64,64),batch_size = 20,class_mode = \"categorical\",color_mode=\"grayscale\")\n",
    "x_test = test_datagen.flow_from_directory(r'C:\\Users\\surya\\Desktop\\Snake\\ImagesNew\\ImagesNew_split\\val',target_size = (64,64),batch_size = 20,class_mode = \"categorical\",color_mode=\"grayscale\")"
   ]
  },
  {
   "cell_type": "code",
   "execution_count": 38,
   "id": "c758031d",
   "metadata": {},
   "outputs": [
    {
     "data": {
      "text/plain": [
       "<tensorflow.python.keras.preprocessing.image.DirectoryIterator at 0x2b5173bea00>"
      ]
     },
     "execution_count": 38,
     "metadata": {},
     "output_type": "execute_result"
    }
   ],
   "source": [
    "x_train"
   ]
  },
  {
   "cell_type": "code",
   "execution_count": 39,
   "id": "04e3adb9",
   "metadata": {},
   "outputs": [
    {
     "data": {
      "text/plain": [
       "{'east': 0, 'north': 1, 'south': 2, 'west': 3}"
      ]
     },
     "execution_count": 39,
     "metadata": {},
     "output_type": "execute_result"
    }
   ],
   "source": [
    "x_train.class_indices"
   ]
  },
  {
   "cell_type": "code",
   "execution_count": 40,
   "id": "d67d015c",
   "metadata": {},
   "outputs": [
    {
     "data": {
      "text/plain": [
       "{'east': 0, 'north': 1, 'south': 2, 'west': 3}"
      ]
     },
     "execution_count": 40,
     "metadata": {},
     "output_type": "execute_result"
    }
   ],
   "source": [
    "x_test.class_indices"
   ]
  },
  {
   "cell_type": "code",
   "execution_count": 41,
   "id": "e3eedb4a",
   "metadata": {},
   "outputs": [
    {
     "data": {
      "text/plain": [
       "21"
      ]
     },
     "execution_count": 41,
     "metadata": {},
     "output_type": "execute_result"
    }
   ],
   "source": [
    "len(x_test)"
   ]
  },
  {
   "cell_type": "code",
   "execution_count": 42,
   "id": "ec205b6a",
   "metadata": {},
   "outputs": [
    {
     "data": {
      "text/plain": [
       "82"
      ]
     },
     "execution_count": 42,
     "metadata": {},
     "output_type": "execute_result"
    }
   ],
   "source": [
    "len(x_train)"
   ]
  },
  {
   "cell_type": "code",
   "execution_count": 43,
   "id": "0c5e73d4",
   "metadata": {},
   "outputs": [
    {
     "data": {
      "text/plain": [
       "<tensorflow.python.keras.preprocessing.image.DirectoryIterator at 0x2b5173bea00>"
      ]
     },
     "execution_count": 43,
     "metadata": {},
     "output_type": "execute_result"
    }
   ],
   "source": [
    "x_train\n"
   ]
  },
  {
   "cell_type": "code",
   "execution_count": 56,
   "id": "84eaf080",
   "metadata": {},
   "outputs": [],
   "source": [
    "model = Sequential()"
   ]
  },
  {
   "cell_type": "code",
   "execution_count": 57,
   "id": "8cb6773a",
   "metadata": {},
   "outputs": [],
   "source": [
    "model.add(Convolution2D(32,(3,3),input_shape = (64,64,1)))"
   ]
  },
  {
   "cell_type": "code",
   "execution_count": 58,
   "id": "2f2f0dad",
   "metadata": {},
   "outputs": [],
   "source": [
    "model.add(MaxPooling2D((2,2)))"
   ]
  },
  {
   "cell_type": "code",
   "execution_count": 59,
   "id": "78c0f72a",
   "metadata": {},
   "outputs": [],
   "source": [
    "model.add(Dropout(0.2))"
   ]
  },
  {
   "cell_type": "code",
   "execution_count": 60,
   "id": "6282249e",
   "metadata": {},
   "outputs": [],
   "source": [
    "model.add(Flatten())"
   ]
  },
  {
   "cell_type": "code",
   "execution_count": 61,
   "id": "f6cf9771",
   "metadata": {},
   "outputs": [],
   "source": [
    "model.add(Dense(units = 128, kernel_initializer= \"random_uniform\",activation = \"relu\"))"
   ]
  },
  {
   "cell_type": "code",
   "execution_count": 62,
   "id": "bde1b142",
   "metadata": {},
   "outputs": [],
   "source": [
    "model.add(Dropout(0.25))"
   ]
  },
  {
   "cell_type": "code",
   "execution_count": 63,
   "id": "34d103d1",
   "metadata": {},
   "outputs": [],
   "source": [
    "model.add(Dense(units = 256, kernel_initializer= \"random_uniform\",activation = \"relu\"))"
   ]
  },
  {
   "cell_type": "code",
   "execution_count": 64,
   "id": "75e07e7b",
   "metadata": {},
   "outputs": [],
   "source": [
    "model.add(Dropout(0.1))"
   ]
  },
  {
   "cell_type": "code",
   "execution_count": 65,
   "id": "9d276554",
   "metadata": {},
   "outputs": [],
   "source": [
    "model.add(Dense(units = 4 , kernel_initializer= \"random_uniform\",activation = \"sigmoid\"))"
   ]
  },
  {
   "cell_type": "code",
   "execution_count": 66,
   "id": "9bf10d3b",
   "metadata": {},
   "outputs": [],
   "source": [
    "model.compile(optimizer= \"adam\",loss = \"categorical_crossentropy\" , metrics =[\"accuracy\"])"
   ]
  },
  {
   "cell_type": "code",
   "execution_count": 67,
   "id": "243244f0",
   "metadata": {},
   "outputs": [
    {
     "name": "stdout",
     "output_type": "stream",
     "text": [
      "Epoch 1/40\n",
      "15/15 [==============================] - 2s 76ms/step - loss: 1.3769 - accuracy: 0.3000 - val_loss: 1.3226 - val_accuracy: 0.3333\n",
      "Epoch 2/40\n",
      "15/15 [==============================] - 1s 68ms/step - loss: 1.2872 - accuracy: 0.4000 - val_loss: 1.2220 - val_accuracy: 0.4333\n",
      "Epoch 3/40\n",
      "15/15 [==============================] - 1s 68ms/step - loss: 1.1672 - accuracy: 0.4967 - val_loss: 1.1511 - val_accuracy: 0.4667\n",
      "Epoch 4/40\n",
      "15/15 [==============================] - 1s 68ms/step - loss: 1.0674 - accuracy: 0.5574 - val_loss: 0.8854 - val_accuracy: 0.5500\n",
      "Epoch 5/40\n",
      "15/15 [==============================] - 1s 65ms/step - loss: 1.0340 - accuracy: 0.5367 - val_loss: 1.0776 - val_accuracy: 0.5500\n",
      "Epoch 6/40\n",
      "15/15 [==============================] - 1s 69ms/step - loss: 0.9696 - accuracy: 0.5833 - val_loss: 0.9124 - val_accuracy: 0.5167\n",
      "Epoch 7/40\n",
      "15/15 [==============================] - 1s 68ms/step - loss: 0.8237 - accuracy: 0.6367 - val_loss: 0.8334 - val_accuracy: 0.6000\n",
      "Epoch 8/40\n",
      "15/15 [==============================] - 1s 69ms/step - loss: 0.7970 - accuracy: 0.6554 - val_loss: 0.8346 - val_accuracy: 0.6500\n",
      "Epoch 9/40\n",
      "15/15 [==============================] - 1s 69ms/step - loss: 0.8654 - accuracy: 0.6200 - val_loss: 0.8118 - val_accuracy: 0.6833\n",
      "Epoch 10/40\n",
      "15/15 [==============================] - 1s 69ms/step - loss: 0.7518 - accuracy: 0.6900 - val_loss: 0.7416 - val_accuracy: 0.7333\n",
      "Epoch 11/40\n",
      "15/15 [==============================] - 1s 70ms/step - loss: 0.8159 - accuracy: 0.6400 - val_loss: 0.7447 - val_accuracy: 0.6833\n",
      "Epoch 12/40\n",
      "15/15 [==============================] - 1s 72ms/step - loss: 0.7366 - accuracy: 0.6733 - val_loss: 0.6682 - val_accuracy: 0.7167\n",
      "Epoch 13/40\n",
      "15/15 [==============================] - 1s 71ms/step - loss: 0.6550 - accuracy: 0.7367 - val_loss: 0.6443 - val_accuracy: 0.7667\n",
      "Epoch 14/40\n",
      "15/15 [==============================] - 1s 75ms/step - loss: 0.7089 - accuracy: 0.6900 - val_loss: 0.7777 - val_accuracy: 0.6833\n",
      "Epoch 15/40\n",
      "15/15 [==============================] - 1s 81ms/step - loss: 0.6215 - accuracy: 0.7567 - val_loss: 0.8318 - val_accuracy: 0.7500\n",
      "Epoch 16/40\n",
      "15/15 [==============================] - 1s 85ms/step - loss: 0.6491 - accuracy: 0.7267 - val_loss: 0.6121 - val_accuracy: 0.7667\n",
      "Epoch 17/40\n",
      "15/15 [==============================] - 2s 107ms/step - loss: 0.5636 - accuracy: 0.7767 - val_loss: 0.6724 - val_accuracy: 0.8000\n",
      "Epoch 18/40\n",
      "15/15 [==============================] - 2s 111ms/step - loss: 0.5598 - accuracy: 0.7733 - val_loss: 0.6044 - val_accuracy: 0.7667\n",
      "Epoch 19/40\n",
      "15/15 [==============================] - 2s 100ms/step - loss: 0.5607 - accuracy: 0.7833 - val_loss: 0.5349 - val_accuracy: 0.7667\n",
      "Epoch 20/40\n",
      "15/15 [==============================] - 1s 77ms/step - loss: 0.5106 - accuracy: 0.7833 - val_loss: 0.6291 - val_accuracy: 0.7500\n",
      "Epoch 21/40\n",
      "15/15 [==============================] - 1s 77ms/step - loss: 0.4132 - accuracy: 0.8700 - val_loss: 0.7081 - val_accuracy: 0.7333\n",
      "Epoch 22/40\n",
      "15/15 [==============================] - 1s 82ms/step - loss: 0.5002 - accuracy: 0.8233 - val_loss: 0.5704 - val_accuracy: 0.8000\n",
      "Epoch 23/40\n",
      "15/15 [==============================] - 1s 75ms/step - loss: 0.4603 - accuracy: 0.8433 - val_loss: 0.4709 - val_accuracy: 0.8167\n",
      "Epoch 24/40\n",
      "15/15 [==============================] - 1s 89ms/step - loss: 0.4212 - accuracy: 0.8467 - val_loss: 0.5371 - val_accuracy: 0.8500\n",
      "Epoch 25/40\n",
      "15/15 [==============================] - 1s 71ms/step - loss: 0.4571 - accuracy: 0.8446 - val_loss: 0.5042 - val_accuracy: 0.8000\n",
      "Epoch 26/40\n",
      "15/15 [==============================] - 1s 75ms/step - loss: 0.3926 - accuracy: 0.8600 - val_loss: 0.6376 - val_accuracy: 0.7833\n",
      "Epoch 27/40\n",
      "15/15 [==============================] - 1s 75ms/step - loss: 0.3822 - accuracy: 0.8600 - val_loss: 0.5902 - val_accuracy: 0.7667\n",
      "Epoch 28/40\n",
      "15/15 [==============================] - 1s 85ms/step - loss: 0.3326 - accuracy: 0.8784 - val_loss: 0.3092 - val_accuracy: 0.9167\n",
      "Epoch 29/40\n",
      "15/15 [==============================] - 1s 71ms/step - loss: 0.3576 - accuracy: 0.8833 - val_loss: 0.3248 - val_accuracy: 0.9000\n",
      "Epoch 30/40\n",
      "15/15 [==============================] - 1s 79ms/step - loss: 0.3385 - accuracy: 0.8800 - val_loss: 0.5226 - val_accuracy: 0.8333\n",
      "Epoch 31/40\n",
      "15/15 [==============================] - 1s 79ms/step - loss: 0.3196 - accuracy: 0.8885 - val_loss: 0.4724 - val_accuracy: 0.7667\n",
      "Epoch 32/40\n",
      "15/15 [==============================] - 1s 73ms/step - loss: 0.3512 - accuracy: 0.8953 - val_loss: 0.4180 - val_accuracy: 0.8000\n",
      "Epoch 33/40\n",
      "15/15 [==============================] - 1s 79ms/step - loss: 0.2741 - accuracy: 0.8967 - val_loss: 0.7147 - val_accuracy: 0.7667\n",
      "Epoch 34/40\n",
      "15/15 [==============================] - 1s 78ms/step - loss: 0.2497 - accuracy: 0.9122 - val_loss: 0.5525 - val_accuracy: 0.8167\n",
      "Epoch 35/40\n",
      "15/15 [==============================] - 1s 91ms/step - loss: 0.2857 - accuracy: 0.9088 - val_loss: 0.4917 - val_accuracy: 0.8667\n",
      "Epoch 36/40\n",
      "15/15 [==============================] - 1s 92ms/step - loss: 0.2750 - accuracy: 0.9100 - val_loss: 0.4301 - val_accuracy: 0.8333\n",
      "Epoch 37/40\n",
      "15/15 [==============================] - 1s 77ms/step - loss: 0.2285 - accuracy: 0.9133 - val_loss: 0.5413 - val_accuracy: 0.8000\n",
      "Epoch 38/40\n",
      "15/15 [==============================] - 1s 78ms/step - loss: 0.2467 - accuracy: 0.9133 - val_loss: 0.3889 - val_accuracy: 0.8667\n",
      "Epoch 39/40\n",
      "15/15 [==============================] - 1s 73ms/step - loss: 0.2171 - accuracy: 0.9291 - val_loss: 0.5264 - val_accuracy: 0.8333\n",
      "Epoch 40/40\n",
      "15/15 [==============================] - 1s 73ms/step - loss: 0.2274 - accuracy: 0.9133 - val_loss: 0.6275 - val_accuracy: 0.8000\n"
     ]
    },
    {
     "data": {
      "text/plain": [
       "<tensorflow.python.keras.callbacks.History at 0x2b517fcfd60>"
      ]
     },
     "execution_count": 67,
     "metadata": {},
     "output_type": "execute_result"
    }
   ],
   "source": [
    "model.fit(x_train,steps_per_epoch =15 , epochs = 40 , validation_data = x_test,validation_steps = 3 )"
   ]
  },
  {
   "cell_type": "code",
   "execution_count": 68,
   "id": "cd6b4f20",
   "metadata": {},
   "outputs": [],
   "source": [
    "model.save(\"Hand_Rec_New_grayscale.h5\")"
   ]
  },
  {
   "cell_type": "code",
   "execution_count": 69,
   "id": "0e49bf86",
   "metadata": {
    "scrolled": true
   },
   "outputs": [
    {
     "name": "stdout",
     "output_type": "stream",
     "text": [
      "Model: \"sequential_2\"\n",
      "_________________________________________________________________\n",
      "Layer (type)                 Output Shape              Param #   \n",
      "=================================================================\n",
      "conv2d_2 (Conv2D)            (None, 62, 62, 32)        320       \n",
      "_________________________________________________________________\n",
      "max_pooling2d_2 (MaxPooling2 (None, 31, 31, 32)        0         \n",
      "_________________________________________________________________\n",
      "dropout_6 (Dropout)          (None, 31, 31, 32)        0         \n",
      "_________________________________________________________________\n",
      "flatten_2 (Flatten)          (None, 30752)             0         \n",
      "_________________________________________________________________\n",
      "dense_6 (Dense)              (None, 128)               3936384   \n",
      "_________________________________________________________________\n",
      "dropout_7 (Dropout)          (None, 128)               0         \n",
      "_________________________________________________________________\n",
      "dense_7 (Dense)              (None, 256)               33024     \n",
      "_________________________________________________________________\n",
      "dropout_8 (Dropout)          (None, 256)               0         \n",
      "_________________________________________________________________\n",
      "dense_8 (Dense)              (None, 4)                 1028      \n",
      "=================================================================\n",
      "Total params: 3,970,756\n",
      "Trainable params: 3,970,756\n",
      "Non-trainable params: 0\n",
      "_________________________________________________________________\n"
     ]
    }
   ],
   "source": [
    "model.summary()"
   ]
  },
  {
   "cell_type": "markdown",
   "id": "4cf2ee06",
   "metadata": {},
   "source": [
    "###  Testing"
   ]
  },
  {
   "cell_type": "code",
   "execution_count": 70,
   "id": "a12293f6",
   "metadata": {},
   "outputs": [],
   "source": [
    "from tensorflow.keras.models import load_model\n",
    "from tensorflow.keras.preprocessing  import image\n",
    "import numpy as np"
   ]
  },
  {
   "cell_type": "code",
   "execution_count": 71,
   "id": "c65d62e8",
   "metadata": {},
   "outputs": [
    {
     "data": {
      "image/png": "[encoded data removed]",
      "text/plain": [
       "<PIL.Image.Image image mode=L size=64x64 at 0x2B51765FA90>"
      ]
     },
     "execution_count": 71,
     "metadata": {},
     "output_type": "execute_result"
    }
   ],
   "source": [
    "img = image.load_img(r\"C:\\Users\\surya\\Desktop\\Snake\\ImagesNew\\ImagesNew_split\\val\\north\\12.png\",target_size = (64,64),color_mode=\"grayscale\")\n",
    "img"
   ]
  },
  {
   "cell_type": "code",
   "execution_count": 72,
   "id": "e19d5f2e",
   "metadata": {},
   "outputs": [],
   "source": [
    "x = image.img_to_array(img)"
   ]
  },
  {
   "cell_type": "code",
   "execution_count": 73,
   "id": "09b57cfd",
   "metadata": {},
   "outputs": [
    {
     "data": {
      "text/plain": [
       "(64, 64, 1)"
      ]
     },
     "execution_count": 73,
     "metadata": {},
     "output_type": "execute_result"
    }
   ],
   "source": [
    "x.shape"
   ]
  },
  {
   "cell_type": "code",
   "execution_count": 74,
   "id": "7c024f97",
   "metadata": {},
   "outputs": [],
   "source": [
    "x = np.expand_dims(x,axis = 0)"
   ]
  },
  {
   "cell_type": "code",
   "execution_count": 75,
   "id": "cd6fb5db",
   "metadata": {},
   "outputs": [
    {
     "data": {
      "text/plain": [
       "(1, 64, 64, 1)"
      ]
     },
     "execution_count": 75,
     "metadata": {},
     "output_type": "execute_result"
    }
   ],
   "source": [
    "x.shape"
   ]
  },
  {
   "cell_type": "code",
   "execution_count": 76,
   "id": "4f5bad47",
   "metadata": {},
   "outputs": [],
   "source": [
    "pred = model.predict(x)"
   ]
  },
  {
   "cell_type": "code",
   "execution_count": 77,
   "id": "177dd19f",
   "metadata": {},
   "outputs": [
    {
     "data": {
      "text/plain": [
       "array([[0., 1., 0., 0.]], dtype=float32)"
      ]
     },
     "execution_count": 77,
     "metadata": {},
     "output_type": "execute_result"
    }
   ],
   "source": [
    "pred"
   ]
  },
  {
   "cell_type": "code",
   "execution_count": null,
   "id": "8949496a",
   "metadata": {},
   "outputs": [],
   "source": []
  }
 ],
 "metadata": {
  "kernelspec": {
   "display_name": "Python 3",
   "language": "python",
   "name": "python3"
  },
  "language_info": {
   "codemirror_mode": {
    "name": "ipython",
    "version": 3
   },
   "file_extension": ".py",
   "mimetype": "text/x-python",
   "name": "python",
   "nbconvert_exporter": "python",
   "pygments_lexer": "ipython3",
   "version": "3.8.8"
  }
 },
 "nbformat": 4,
 "nbformat_minor": 5
}
